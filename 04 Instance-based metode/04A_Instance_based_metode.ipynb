{
  "nbformat": 4,
  "nbformat_minor": 0,
  "metadata": {
    "colab": {
      "name": "04A_Instance_based_metode.ipynb",
      "version": "0.3.2",
      "provenance": [],
      "collapsed_sections": []
    },
    "kernelspec": {
      "display_name": "Python 3",
      "language": "python",
      "name": "python3"
    }
  },
  "cells": [
    {
      "metadata": {
        "slideshow": {
          "slide_type": "slide"
        },
        "id": "2l-OFjBU_2D6",
        "colab_type": "text"
      },
      "cell_type": "markdown",
      "source": [
        "# Instance-based metode"
      ]
    },
    {
      "metadata": {
        "id": "jglSyj3pCaKa",
        "colab_type": "text"
      },
      "cell_type": "markdown",
      "source": [
        "**\"A family of learning algorithms that, instead of performing explicit generalization, compares new problem instances with instances seen in training\"**"
      ]
    },
    {
      "metadata": {
        "slideshow": {
          "slide_type": "slide"
        },
        "id": "OFJr40a4_2D8",
        "colab_type": "text"
      },
      "cell_type": "markdown",
      "source": [
        "# Pregled\n",
        "* Instance-based metode klasifikacije\n",
        "* k-nearest neighbours (k-NN)\n",
        "  * Weighted k-NN\n",
        "* Lokalno-težinska regresija (LWR)"
      ]
    },
    {
      "metadata": {
        "slideshow": {
          "slide_type": "skip"
        },
        "id": "nk6vDjq9_2EH",
        "colab_type": "text"
      },
      "cell_type": "markdown",
      "source": [
        "# Instance-based metode klasifikacije\n",
        "\n",
        "**Instance-based metode** su metode koje ne grade eksplicitan model podataka (u vidu neke funkcije) koji generalizuje. Umesto toga, klasifikacija se vrši na osnovu skupa instanci za trening, koje se čuvaju i bivaju upotrebljene tek kada je potrebno da se izvrši sama klasifikacija."
      ]
    },
    {
      "metadata": {
        "id": "IY3gAeMQqDpo",
        "colab_type": "text"
      },
      "cell_type": "markdown",
      "source": [
        "# k-nearest neighbours\n",
        "**k-nearest neighbours** tj. **k-NN** je tehnika koja klasifikuje nepoznate primere na osnovu k najbližih suseda (uglavnom po euklidskoj distanci u prostoru feature-a). Dakle, umesto treninga, nepoznati primer $x$ klasifikujemo u klasu koja se najčešće pojavljuje u najbližih k trening primera. Ovo čini da faza treninga bude nepostojeća, ali da faza predikcije za novi primer bude u nekim slučajevima veoma spora.\n",
        "\n",
        "U **Weighted k-NN** varijaciji ne dobija glas svakog od k suseda istu težinu tj. uvodimo eksplicitne težine koje su obrnuto proporcionalne udaljenošću (uglavnom 1/d ako je udaljenost d).\n",
        "\n",
        "Pored načina na koji se dodeljuju težine, jedini parametar modela je **k**. Ovaj parametar predstavlja balans između posmatranja lokalne i globalne strukture: ukoliko stavimo **k=1** model prestaje da bude otporan na šum tj. prisustvo outlier-a. Sa deuge strane, povećavanje **k** donosi bolje rezultate do neke granice, kada previše uzimamo u obzir globalna svojstva.\n",
        "\n",
        "Jedna od čestih primena k-NN modela je u sistemima za preporuku (recommender systems) tj. u metodama kolaborativnog filtriranja (collaborative filtering). Npr. na osnovu skupa podataka koji sadrži ocene velikog broja ljudi za određene filmove, možemo novom korisniku preporučiti film koji bi bio odgovarajući.\n",
        "\n",
        "U našem slučaju pogledaćemo k-NN u praksi na primeru klasifikacije ručno pisanih cifara ([MNIST](http://yann.lecun.com/exdb/mnist/) skup podataka)."
      ]
    },
    {
      "metadata": {
        "id": "IDSgrPpcr8Yj",
        "colab_type": "text"
      },
      "cell_type": "markdown",
      "source": [
        "## k-NN za MNIST"
      ]
    },
    {
      "metadata": {
        "id": "Ns7j5_WrspI-",
        "colab_type": "code",
        "colab": {}
      },
      "cell_type": "code",
      "source": [
        "# TODO"
      ],
      "execution_count": 0,
      "outputs": []
    },
    {
      "metadata": {
        "id": "gvmrlF5S_2EN",
        "colab_type": "text"
      },
      "cell_type": "markdown",
      "source": [
        "# Lokalno-težinska regresija (LWR)\n",
        "\n",
        "* **Lokalno-težinska regresija** (Locally-Weighted Regression, LWR)\n",
        "* Umesto jedne, treniramo lokalno-težinsku regresiju za neki skup tačaka\n",
        "* Za svaku odabranu tačku u formulaciji za MSE dajemo veću težinu bližim tačkama\n",
        "* Težina se računa po određenoj formuli\n",
        "  * Često: $w(i) = \\exp({-\\frac{(x^{(i)} - x)^2}{2\\tau^2}})$\n",
        "* [Više o LWR](https://see.stanford.edu/materials/aimlcs229/cs229-notes1.pdf)\n"
      ]
    },
    {
      "metadata": {
        "slideshow": {
          "slide_type": "fragment"
        },
        "id": "qthAtzts_2EI",
        "colab_type": "code",
        "colab": {}
      },
      "cell_type": "code",
      "source": [
        "# TODO"
      ],
      "execution_count": 0,
      "outputs": []
    }
  ]
}