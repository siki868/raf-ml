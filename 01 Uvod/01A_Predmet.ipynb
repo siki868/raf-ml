{
  "nbformat": 4,
  "nbformat_minor": 0,
  "metadata": {
    "colab": {
      "name": "01_Predmet.ipynb",
      "version": "0.3.2",
      "provenance": []
    },
    "kernelspec": {
      "display_name": "Python 3",
      "language": "python",
      "name": "python3"
    }
  },
  "cells": [
    {
      "metadata": {
        "slideshow": {
          "slide_type": "slide"
        },
        "id": "D8m7VFxivPao",
        "colab_type": "text"
      },
      "cell_type": "markdown",
      "source": [
        "# Mašinsko učenje - vežbe\n",
        "\n",
        "### Nikola Jovanović <br> njovanovic@raf.rs\n",
        "#### Računarski fakultet <br> Univerzitet Union\n",
        "#### Mart 2019"
      ]
    },
    {
      "metadata": {
        "slideshow": {
          "slide_type": "slide"
        },
        "id": "dH53tLm0vPat",
        "colab_type": "text"
      },
      "cell_type": "markdown",
      "source": [
        "# Anketa"
      ]
    },
    {
      "metadata": {
        "slideshow": {
          "slide_type": "fragment"
        },
        "id": "wACzW27ovPaw",
        "colab_type": "text"
      },
      "cell_type": "markdown",
      "source": [
        "* Da li je neko primenio neki algoritam mašinskog učenja?"
      ]
    },
    {
      "metadata": {
        "slideshow": {
          "slide_type": "fragment"
        },
        "id": "Uh7vOexpvPay",
        "colab_type": "text"
      },
      "cell_type": "markdown",
      "source": [
        "* Ko zna bar jedan algoritam mašinskog učenja?"
      ]
    },
    {
      "metadata": {
        "slideshow": {
          "slide_type": "fragment"
        },
        "id": "pJzXy-4ovPa0",
        "colab_type": "text"
      },
      "cell_type": "markdown",
      "source": [
        "* Da li svi znaju Python?"
      ]
    },
    {
      "metadata": {
        "slideshow": {
          "slide_type": "fragment"
        },
        "id": "B-ybkWFOvPa3",
        "colab_type": "text"
      },
      "cell_type": "markdown",
      "source": [
        "* Da li je neko koristio TensorFlow ili neku sličnu biblioteku?"
      ]
    },
    {
      "metadata": {
        "slideshow": {
          "slide_type": "slide"
        },
        "id": "0utJoGwWvPa4",
        "colab_type": "text"
      },
      "cell_type": "markdown",
      "source": [
        "# Vežbe"
      ]
    },
    {
      "metadata": {
        "slideshow": {
          "slide_type": "fragment"
        },
        "id": "E724cqk7vPa5",
        "colab_type": "text"
      },
      "cell_type": "markdown",
      "source": [
        "* **Nastava:**\n",
        "   \n",
        " * Mašinsko učenje u praksi: biblioteka TensorFlow\n",
        "    * Implementacija algoritama\n",
        "        \n",
        "  * Teorijska diskusija algoritama na nivou podsetnika/pregleda - koliko je neophodno za osnovno razumevanje koda\n",
        "     * Moguće odstupanje od predavanja\n",
        "     * Ipak, važno je dobro znati teoriju; koristiti predavanja i online resurse"
      ]
    },
    {
      "metadata": {
        "slideshow": {
          "slide_type": "fragment"
        },
        "id": "OSJLyvX-vPa7",
        "colab_type": "text"
      },
      "cell_type": "markdown",
      "source": [
        "* **Obaveze:**\n",
        "    * Dva domaća zadatka po 25 poena\n",
        "    * Primena obrađivanih algoritama, implementacija sličnih, poređenje više pristupa, pribavljanje i obrada podataka...\n",
        "    * Timski rad u grupi od 2-3 studenta\n",
        "    * Odbrane u kolokvijumskim nedeljama"
      ]
    },
    {
      "metadata": {
        "slideshow": {
          "slide_type": "fragment"
        },
        "id": "DQGE-sPWvPa9",
        "colab_type": "text"
      },
      "cell_type": "markdown",
      "source": [
        "* **Materijali:**\n",
        "    * Github repozitorijum: https://github.com/rand0musername/raf-ml\n",
        "    * Email: njovanovic@raf.rs"
      ]
    },
    {
      "metadata": {
        "slideshow": {
          "slide_type": "slide"
        },
        "id": "C6KoBE36vPa-",
        "colab_type": "text"
      },
      "cell_type": "markdown",
      "source": [
        "# Ukratko o mašinskom učenju"
      ]
    },
    {
      "metadata": {
        "slideshow": {
          "slide_type": "fragment"
        },
        "id": "dnt-MTbkvPa_",
        "colab_type": "text"
      },
      "cell_type": "markdown",
      "source": [
        "* **Šta je mašinsko učenje?**\n",
        "\n",
        "    Mašinsko učenje je podoblast veštačke inteligencije koja se bavi proučavanjem algoritama i statističkih modela koji treba da efikasno vrše određene zadatke bez eksplicitno zadatih instrukcija, oslanjajući se na uočavanje šablona i generalizaciju."
      ]
    },
    {
      "metadata": {
        "slideshow": {
          "slide_type": "fragment"
        },
        "id": "pqZdoIoOvPbB",
        "colab_type": "text"
      },
      "cell_type": "markdown",
      "source": [
        "* **Koja je primena mašinskog učenja?**\n",
        "   \n",
        "  Medicinska dijagnostika, autonomni automobili, prepoznavanje rukom pisanog teksta, prepoznavanje lica i identifikacija, prepoznavanje govora, sistemi za preporučivanje, detekcija prevara, detekcija kvaliteta, bioinformatika, prepoznavanje emocija, rekonstrukcija trodimenzionalnog prostora, detekcija jezika, mašinsko prevođenje, i mnogo drugih oblasti...\n",
        "    "
      ]
    },
    {
      "metadata": {
        "slideshow": {
          "slide_type": "fragment"
        },
        "id": "hNwJ8a6LvPbC",
        "colab_type": "text"
      },
      "cell_type": "markdown",
      "source": [
        "* ** Tipovi algoritama mašinskog učenja na osnovu tipa podataka**\n",
        "    * Nadgledano učenje (eng. _supervised learning_)\n",
        "    * Nenadgledano učenje (eng. _unsupervised learning_)\n",
        "    * Učenje uslovljavanjem (eng. _reinforcement learning_)"
      ]
    },
    {
      "metadata": {
        "slideshow": {
          "slide_type": "slide"
        },
        "id": "lJN_nBKnvPbD",
        "colab_type": "text"
      },
      "cell_type": "markdown",
      "source": [
        "# Teme (okvirno)"
      ]
    },
    {
      "metadata": {
        "slideshow": {
          "slide_type": "fragment"
        },
        "id": "_zNTFJtWvPbE",
        "colab_type": "text"
      },
      "cell_type": "markdown",
      "source": [
        "+ Uvod u TensorFlow\n",
        "+ Linearna regresija (prosta, višestruka, polinomijalna)\n",
        "+ Logistička regresija (prosta, multinomijalna)\n",
        "+ Instance-based metode (kNN, LOWESS)\n",
        "+ Uvod u obradu jezika (ntlk), Naive Bayes\n",
        "+ Support Vector Machine\n",
        "+ Uvod u Computer Vision (OpenCV)\n",
        "+ Neuralne mreže (MLP)\n",
        "+ Konvolucione neuralne mreže, biblioteka Keras\n",
        "+ Rekurentne neuralne mreže\n",
        "+ Klasterizacija (K-means), redukcija dimenzija (PCA)\n",
        "+ GAN\n",
        "+ Reinforcement Learning (Q-learning), eager execution, biblioteka PyTorch"
      ]
    },
    {
      "metadata": {
        "slideshow": {
          "slide_type": "slide"
        },
        "id": "3VZyEWDSvPbI",
        "colab_type": "text"
      },
      "cell_type": "markdown",
      "source": [
        "# Python ekosistem\n",
        "\n",
        "* **virtualenv**:  Biblioteka koja omogućava kreiranje izolovanih Python okruženja.\n",
        "* **jupyter notebook**: Web aplikacija za kreiranje dokumenata koji sadrže mešavinu teksta i koda koji se može uživo izvršiti.\n",
        "* **anaconda**: Posebna distribucija Python jezika sa posebnim načinom za upravljanje paketima.\n",
        "* **Google Colab**: Google-ova verzija jupyter notebook-a, podržava izvršavanja TensorFlow koda na GPU.\n",
        "* **SciPy**: Skup biblioteka koji uključuje:\n",
        "  * **numpy**: Biblioteka za numerička izračunavanja.\n",
        "  * **matplotlib**: Biblioteka za kreiranje grafika i vizualizaciju.\n",
        "  * **pandas**: Biblioteka za rad i upravljanje podacima.\n",
        "* **ntlk**: Skup biblioteka sa alatima obradu teksta.\n",
        "* **OpenCV**: Biblioteka za Computer Vision.\n",
        "* **TensorFlow**: Biblioteka za kompleksna numerička izračunavanja, najčešće korišćena u kontekstu mašinskog učenja.\n",
        "* **Keras**: High-level biblioteka za rad sa neuralnim mrežama.\n",
        "* **PyTorch**: Biblioteka za mašinsko učenje nalik na TensorFlow, bazirana na **Torch**-u, starijoj biblioteci za mašinsko učenje u programskom jeziku Lua.\n",
        "* **Theano**, **caffe**, **scikit-learn**: Popularne biblioteke sa sličnom namenom.\n"
      ]
    },
    {
      "metadata": {
        "id": "EJNC6mZJ-_SY",
        "colab_type": "text"
      },
      "cell_type": "markdown",
      "source": [
        "\n",
        "# Podešavanje\n",
        "* Pratite **setup.md** iz root direktorijuma ovog repozitorijuma.\n",
        "* Kod možete pisati:\n",
        "  * Direktno u browser-u (kroz jupyter ili Colab)\n",
        "  * U prostom editoru (preporuka: sublime text)\n",
        "  * U naprednom editoru (preporuka: VS Code)\n",
        "  * U IDE (preporuka: PyCharm)"
      ]
    }
  ]
}